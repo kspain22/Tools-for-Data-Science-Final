{
 "cells": [
  {
   "cell_type": "markdown",
   "id": "832b6cd0-8dbc-4c70-b919-845e4510bea2",
   "metadata": {},
   "source": [
    "# Data Science Tools and Ecosystem"
   ]
  },
  {
   "cell_type": "markdown",
   "id": "91c204d5-b7a5-4695-8d43-6abf4e377d77",
   "metadata": {},
   "source": [
    "### In this notebook, Data Science Tools and Ecosystems are summarized."
   ]
  },
  {
   "cell_type": "markdown",
   "id": "c3e20352-da60-4ebf-b1c0-843e0cf790ac",
   "metadata": {
    "jp-MarkdownHeadingCollapsed": true
   },
   "source": [
    "### **Objectives:**\n",
    "\n",
    "- List popular languages for Data Science\n",
    "- List commonly used libraries used by Data Scientists\n",
    "- Use a markdown cell to create a table\n",
    "- Show a few examples of evaluating arithmetic expressions in Python\n",
    "  "
   ]
  },
  {
   "cell_type": "markdown",
   "id": "ef476608-f558-48ab-bb38-3bddde5f4858",
   "metadata": {},
   "source": [
    "### Some of the popular languages that Data Scientists use are:\n",
    "\n",
    "#### 1. Python\n",
    "#### 2. R\n",
    "#### 3. C++"
   ]
  },
  {
   "cell_type": "markdown",
   "id": "3fe9902c-2df7-4ef2-a4e3-54be3ae2d926",
   "metadata": {},
   "source": [
    "### Some of the commonly used libraries used by Data Scientists include:\n",
    "\n",
    "#### 1. Pandas\n",
    "#### 2. Matplotlib\n",
    "#### 3. Scikit-learn"
   ]
  },
  {
   "cell_type": "markdown",
   "id": "7711b298-14b7-4d41-981b-3a008107aa11",
   "metadata": {},
   "source": [
    "| Data Science Tools |\n",
    "| ------------------ |\n",
    "| Jupyter            |\n",
    "| Appache Zeppelin   |\n",
    "| R Studio           |"
   ]
  },
  {
   "cell_type": "markdown",
   "id": "ac79604b-a5b1-4120-a953-2555951aeaf7",
   "metadata": {},
   "source": [
    "### Below are a few examples of evaluating arithmetic expressions in Python."
   ]
  },
  {
   "cell_type": "code",
   "execution_count": 10,
   "id": "299787ad-bd1a-46af-8850-b5068458b8ac",
   "metadata": {},
   "outputs": [
    {
     "data": {
      "text/plain": [
       "17"
      ]
     },
     "execution_count": 10,
     "metadata": {},
     "output_type": "execute_result"
    }
   ],
   "source": [
    "# This is a simple arithmetic expression to multiply then add integers\n",
    "(3*4)+5"
   ]
  },
  {
   "cell_type": "code",
   "execution_count": 12,
   "id": "601e6d92-3d63-415d-a917-79758069fb11",
   "metadata": {},
   "outputs": [
    {
     "data": {
      "text/plain": [
       "3.3333333333333335"
      ]
     },
     "execution_count": 12,
     "metadata": {},
     "output_type": "execute_result"
    }
   ],
   "source": [
    "# This will convert 200 minutes to hours by dividing by 60\n",
    "200/60"
   ]
  },
  {
   "cell_type": "markdown",
   "id": "b35a5bfe-05e9-4e3c-9444-f8ea85d8df9a",
   "metadata": {},
   "source": [
    "## Author\n",
    "### Kyle Spain"
   ]
  }
 ],
 "metadata": {
  "kernelspec": {
   "display_name": "Python [conda env:base] *",
   "language": "python",
   "name": "conda-base-py"
  },
  "language_info": {
   "codemirror_mode": {
    "name": "ipython",
    "version": 3
   },
   "file_extension": ".py",
   "mimetype": "text/x-python",
   "name": "python",
   "nbconvert_exporter": "python",
   "pygments_lexer": "ipython3",
   "version": "3.12.7"
  }
 },
 "nbformat": 4,
 "nbformat_minor": 5
}
